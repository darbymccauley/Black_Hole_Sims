{
 "cells": [
  {
   "cell_type": "code",
   "execution_count": 8,
   "id": "3a673550",
   "metadata": {},
   "outputs": [],
   "source": [
    "import numpy as np\n",
    "import matplotlib as mpl\n",
    "from matplotlib import pyplot\n",
    "import matplotlib.pyplot as plt\n",
    "from matplotlib import cm"
   ]
  },
  {
   "cell_type": "code",
   "execution_count": 9,
   "id": "0de934fe",
   "metadata": {},
   "outputs": [],
   "source": [
    "### Using natural units ###\n",
    "c = 1\n",
    "G = 1 \n",
    "M = 1 # black hole mass"
   ]
  },
  {
   "cell_type": "code",
   "execution_count": 10,
   "id": "dca80bbb",
   "metadata": {},
   "outputs": [],
   "source": [
    "# def xy_rotate(x, y, xcen, ycen, angle):\n",
    "#     \"\"\"\n",
    "#     Rotates the x-axis counter-clock-wise by an angle.\n",
    "#     \"\"\"\n",
    "#     angle_rad = np.deg2rad(angle)\n",
    "#     xnew = (x-xcen)*np.cos(angle_rad) + (y-ycen)*np.sin(angle_rad)\n",
    "#     ynew = (y-ycen)*np.cos(angle_rad) - (x-xcen)*np.sin(angle_rad)\n",
    "#     return (xnew, ynew)\n",
    "\n",
    "def Gaussian(x, y, pars):\n",
    "    \"\"\"\n",
    "    2D Gaussian function:\n",
    "    Serves to map the density of the lensed light such that if it were directly behind the black hole then a perfect Einstein ring would form and would vary otherwise based on position. An un-lensed image will merely produce a standard 2D Guassian function centered at (x, y).\n",
    "    \n",
    "    Input:\n",
    "        x, y = coordinates of source\n",
    "        pars = array of parameters:\n",
    "            [max amplitude, standard deviation]\n",
    "    Output:\n",
    "        2D Gaussian function evaluated at (x, y)\n",
    "    \"\"\"\n",
    "    amplitude, sigma  = pars\n",
    "    expon = -0.5*((x**2 + y**2) / np.abs(sigma)**2)\n",
    "    return amplitude*np.exp(expon)\n",
    "\n",
    "# def deflection_gradient(x, y, pars):\n",
    "#     θ_E, xcen, ycen, axis_ratio, angle = pars\n",
    "    \n",
    "#     impact_param = np.abs(θ_E)\n",
    "    "
   ]
  },
  {
   "cell_type": "code",
   "execution_count": 11,
   "id": "6c633891",
   "metadata": {},
   "outputs": [
    {
     "data": {
      "text/plain": [
       "<matplotlib.image.AxesImage at 0x26c92132220>"
      ]
     },
     "execution_count": 11,
     "metadata": {},
     "output_type": "execute_result"
    },
    {
     "data": {
      "image/png": "[encoded data removed]",
      "text/plain": [
       "<Figure size 576x432 with 1 Axes>"
      ]
     },
     "metadata": {
      "needs_background": "light"
     },
     "output_type": "display_data"
    }
   ],
   "source": [
    "cmap = cm.magma\n",
    "\n",
    "nx = 300\n",
    "ny = 300\n",
    "xhilo = [-2.5, 2.5]\n",
    "yhilo = [-2.5, 2.5]\n",
    "x = (xhilo[1] - xhilo[0]) * np.outer(np.ones(ny), np.arange(nx)) / float(nx-1) + xhilo[0]\n",
    "y = (yhilo[1] - yhilo[0]) * np.outer(np.arange(ny), np.ones(nx)) / float(ny-1) + yhilo[0]\n",
    "\n",
    "gauss_pars = np.asarray([1, 0.1])\n",
    "    # amp=1, sigma=0.1\n",
    "\n",
    "plt.figure(figsize=(8,6))\n",
    "plt.title('Un-Lensed Image', fontsize=18)\n",
    "plt.imshow(Gaussian(x, y, gauss_pars), cmap=cmap, origin='lower')\n",
    "# plt.show()"
   ]
  },
  {
   "cell_type": "code",
   "execution_count": 7,
   "id": "3028e5f4",
   "metadata": {},
   "outputs": [],
   "source": [
    "plt.imshow??"
   ]
  },
  {
   "cell_type": "code",
   "execution_count": null,
   "id": "58d9d7e1",
   "metadata": {},
   "outputs": [],
   "source": [
    "def Einstein_angle(distances):\n",
    "    DLS, DL, DS = distances\n",
    "    return np.sqrt((4*G*M*DLS)/(c**2*DS*DL))\n",
    "\n",
    "def deflection_potential(distances):\n",
    "    DLS, DL, DS = distances\n",
    "    ϕ = (2*DLS)/(c**2*DL*DS)\n",
    "    "
   ]
  },
  {
   "cell_type": "code",
   "execution_count": 5,
   "id": "df9c6bef",
   "metadata": {},
   "outputs": [],
   "source": [
    "from scipy import integrate\n",
    "from astropy.cosmology import Planck18 as cosmo\n",
    "from astropy.constants import c\n",
    "import galpy\n",
    "from galpy.potential import evaluatePotentials\n",
    "\n",
    "\n",
    "def lensing_potential(Pot, theta, distances):\n",
    "    DLS, DL, DS = distances\n",
    "    DL= cosmo.angular_diameter_distance(zlens)\n",
    "    cosmo_fac= cosmo.angular_diameter_distance_z1z2(zlens, zsource)\\\n",
    "        /cosmo.angular_diameter_distance(zsource)/DL\n",
    "    # Some gymnastics to deal with units\n",
    "    R= (np.sqrt(theta[0]**2.+theta[1]**2.)*DL)\\\n",
    "        .to(u.kpc, equivalencies=u.dimensionless_angles())\n",
    "    R= (R/(Pot[0]._ro if isinstance(Pot,list) else Pot._ro)/u.kpc)\\\n",
    "         .to_value(u.dimensionless_unscaled)\n",
    "    phi= np.arctan2(theta[1],theta[0])\n",
    "    # Result includes more gymnastics to deal with units\n",
    "    return (cosmo_fac*2./c**2.\n",
    "            *integrate.quad(lambda z: evaluatePotentials(Pot,R,z,phi=phi,\n",
    "                                                         use_physical=False),\n",
    "                            -zmax,zmax)[0]\n",
    "            *(Pot[0]._ro*Pot[0]._vo**2. if isinstance(Pot,list)\n",
    "              else Pot._ro*Pot._vo**2.)*u.kpc*u.km**2/u.s**2)\\\n",
    "       .to(u.arcsec**2,equivalencies=u.dimensionless_angles())"
   ]
  },
  {
   "cell_type": "code",
   "execution_count": 7,
   "id": "55a003ff",
   "metadata": {},
   "outputs": [],
   "source": [
    "cosmo.angular_diameter_distance_z1z2?"
   ]
  },
  {
   "cell_type": "code",
   "execution_count": 35,
   "id": "b25bca8c",
   "metadata": {},
   "outputs": [],
   "source": [
    "## Getting rid of xy_rotate function ##"
   ]
  },
  {
   "cell_type": "code",
   "execution_count": 33,
   "id": "c35ea55e",
   "metadata": {},
   "outputs": [],
   "source": [
    "def _2D_Gaussian(x, y, pars):\n",
    "    \"\"\"\n",
    "    2D Gaussian function:\n",
    "    Serves to map the density of the lensed light such that if it were directly behind the black hole then a perfect Einstein ring would form and would vary otherwise based on position. An un-lensed image will merely produce a standard 2D Guassian function centered at (x, y).\n",
    "    \n",
    "    Input:\n",
    "        x, y = coordinates of source\n",
    "        pars = array of parameters:\n",
    "            [max amplitude, standard deviation, x-center, y-center, axis ration, rotation]\n",
    "    Output:\n",
    "        2D Gaussian function evaluated at (x, y)\n",
    "    \"\"\"\n",
    "    amplitude, sigma, xcen, ycen, axis_ratio, rotation = pars\n",
    "\n",
    "#     (xnew, ynew) = xy_rotate(x, y, xcen, ycen, rotation)\n",
    "    expon = -0.5*(((x**2)*axis_ratio + (y**2)/axis_ratio) / np.abs(sigma)**2)\n",
    "    \n",
    "    return amplitude*np.exp(expon)"
   ]
  },
  {
   "cell_type": "code",
   "execution_count": 12,
   "id": "2fea0d4e",
   "metadata": {},
   "outputs": [
    {
     "ename": "NameError",
     "evalue": "name '_2D_Gaussian' is not defined",
     "output_type": "error",
     "traceback": [
      "\u001b[1;31m---------------------------------------------------------------------------\u001b[0m",
      "\u001b[1;31mNameError\u001b[0m                                 Traceback (most recent call last)",
      "\u001b[1;32m~\\AppData\\Local\\Temp/ipykernel_11112/1060640919.py\u001b[0m in \u001b[0;36m<module>\u001b[1;34m\u001b[0m\n\u001b[0;32m     13\u001b[0m \u001b[0mplt\u001b[0m\u001b[1;33m.\u001b[0m\u001b[0mfigure\u001b[0m\u001b[1;33m(\u001b[0m\u001b[0mfigsize\u001b[0m\u001b[1;33m=\u001b[0m\u001b[1;33m(\u001b[0m\u001b[1;36m8\u001b[0m\u001b[1;33m,\u001b[0m\u001b[1;36m6\u001b[0m\u001b[1;33m)\u001b[0m\u001b[1;33m)\u001b[0m\u001b[1;33m\u001b[0m\u001b[1;33m\u001b[0m\u001b[0m\n\u001b[0;32m     14\u001b[0m \u001b[0mplt\u001b[0m\u001b[1;33m.\u001b[0m\u001b[0mtitle\u001b[0m\u001b[1;33m(\u001b[0m\u001b[1;34m'Un-Lensed Image'\u001b[0m\u001b[1;33m)\u001b[0m\u001b[1;33m\u001b[0m\u001b[1;33m\u001b[0m\u001b[0m\n\u001b[1;32m---> 15\u001b[1;33m \u001b[0mplt\u001b[0m\u001b[1;33m.\u001b[0m\u001b[0mimshow\u001b[0m\u001b[1;33m(\u001b[0m\u001b[0m_2D_Gaussian\u001b[0m\u001b[1;33m(\u001b[0m\u001b[0mx\u001b[0m\u001b[1;33m,\u001b[0m \u001b[0my\u001b[0m\u001b[1;33m,\u001b[0m \u001b[0mgauss_pars\u001b[0m\u001b[1;33m)\u001b[0m\u001b[1;33m,\u001b[0m \u001b[1;33m**\u001b[0m\u001b[0mmyargs\u001b[0m\u001b[1;33m)\u001b[0m\u001b[1;33m\u001b[0m\u001b[1;33m\u001b[0m\u001b[0m\n\u001b[0m",
      "\u001b[1;31mNameError\u001b[0m: name '_2D_Gaussian' is not defined"
     ]
    },
    {
     "data": {
      "image/png": "[encoded data removed]",
      "text/plain": [
       "<Figure size 576x432 with 1 Axes>"
      ]
     },
     "metadata": {
      "needs_background": "light"
     },
     "output_type": "display_data"
    }
   ],
   "source": [
    "myargs = {'interpolation': 'nearest', 'origin': 'lower', 'cmap': cm.magma}\n",
    "\n",
    "nx = 501\n",
    "ny = 501\n",
    "xhilo = [-2.5, 2.5]\n",
    "yhilo = [-2.5, 2.5]\n",
    "x = (xhilo[1] - xhilo[0]) * np.outer(np.ones(ny), np.arange(nx)) / float(nx-1) + xhilo[0]\n",
    "y = (yhilo[1] - yhilo[0]) * np.outer(np.arange(ny), np.ones(nx)) / float(ny-1) + yhilo[0]\n",
    "\n",
    "gauss_pars = np.asarray([1, 0.1, 0, 0, 1, 0])\n",
    "    # amp=1, sigma=0.1, xcen=ycen=0, axis_ratio=1, rotation=0\n",
    "\n",
    "plt.figure(figsize=(8,6))\n",
    "plt.title('Un-Lensed Image')\n",
    "plt.imshow(_2D_Gaussian(x, y, gauss_pars), **myargs)\n"
   ]
  },
  {
   "cell_type": "code",
   "execution_count": 14,
   "id": "a83c8485",
   "metadata": {},
   "outputs": [],
   "source": [
    "def sie_grad(x, y, par):\n",
    "    \"\"\"\n",
    "    NAME: sie_grad\n",
    "\n",
    "    PURPOSE: compute the deflection of an SIE potential\n",
    "\n",
    "    USAGE: (xg, yg) = sie_grad(x, y, par)\n",
    "\n",
    "    ARGUMENTS:\n",
    "      x, y: vectors or images of coordinates;\n",
    "            should be matching numpy ndarrays\n",
    "      par: vector of parameters with 1 to 5 elements, defined as follows:\n",
    "        par[0]: lens strength, or 'Einstein radius'\n",
    "        par[1]: (optional) x-center (default = 0.0)\n",
    "        par[2]: (optional) y-center (default = 0.0)\n",
    "        par[3]: (optional) axis ratio (default=1.0)\n",
    "        par[4]: (optional) major axis Position Angle\n",
    "                in degrees c.c.w. of x axis. (default = 0.0)\n",
    "\n",
    "    RETURNS: tuple (xg, yg) of gradients at the positions (x, y)\n",
    "\n",
    "    NOTES: This routine implements an 'intermediate-axis' convention.\n",
    "      Analytic forms for the SIE potential can be found in:\n",
    "        Kassiola & Kovner 1993, ApJ, 417, 450\n",
    "        Kormann et al. 1994, A&A, 284, 285\n",
    "        Keeton & Kochanek 1998, ApJ, 495, 157\n",
    "      The parameter-order convention in this routine differs from that\n",
    "      of a previous IDL routine of the same name by ASB.\n",
    "\n",
    "    WRITTEN: Adam S. Bolton, U of Utah, 2009\n",
    "    \"\"\"\n",
    "    # Set parameters:\n",
    "    b = np.abs(par[0]) # can't be negative!!!\n",
    "    xzero = 0. if (len(par) < 2) else par[1]\n",
    "    yzero = 0. if (len(par) < 3) else par[2]\n",
    "    q = 1. if (len(par) < 4) else np.abs(par[3])\n",
    "    phiq = 0. if (len(par) < 5) else par[4]\n",
    "    eps = 0.001 # for sqrt(1/q - q) < eps, a limit expression is used.\n",
    "    # Handle q > 1 gracefully:\n",
    "    if (q > 1.):\n",
    "        q = 1.0 / q\n",
    "        phiq = phiq + 90.0\n",
    "    # Go into shifted coordinats of the potential:\n",
    "    phirad = np.deg2rad(phiq)\n",
    "    xsie = (x-xzero) * np.cos(phirad) + (y-yzero) * np.sin(phirad)\n",
    "    ysie = (y-yzero) * np.cos(phirad) - (x-xzero) * np.sin(phirad)\n",
    "    # Compute potential gradient in the transformed system:\n",
    "    r_ell = np.sqrt(q * xsie**2 + ysie**2 / q)\n",
    "    qfact = np.sqrt(1./q - q)\n",
    "    # (r_ell == 0) terms prevent divide-by-zero problems\n",
    "    if (qfact >= eps):\n",
    "        xtg = (b/qfact) * np.arctan(qfact * xsie / (r_ell + (r_ell == 0)))\n",
    "        ytg = (b/qfact) * np.arctanh(qfact * ysie / (r_ell + (r_ell == 0)))\n",
    "    else:\n",
    "        xtg = b * xsie / (r_ell + (r_ell == 0))\n",
    "        ytg = b * ysie / (r_ell + (r_ell == 0))\n",
    "    # Transform back to un-rotated system:\n",
    "    xg = xtg * np.cos(phirad) - ytg * np.sin(phirad)\n",
    "    yg = ytg * np.cos(phirad) + xtg * np.sin(phirad)\n",
    "    # Return value:\n",
    "    return (xg, yg)"
   ]
  },
  {
   "cell_type": "code",
   "execution_count": 16,
   "id": "3fc02cdf",
   "metadata": {},
   "outputs": [
    {
     "ename": "ValueError",
     "evalue": "too many values to unpack (expected 2)",
     "output_type": "error",
     "traceback": [
      "\u001b[1;31m---------------------------------------------------------------------------\u001b[0m",
      "\u001b[1;31mValueError\u001b[0m                                Traceback (most recent call last)",
      "\u001b[1;32m~\\AppData\\Local\\Temp/ipykernel_11112/2005858056.py\u001b[0m in \u001b[0;36m<module>\u001b[1;34m\u001b[0m\n\u001b[0;32m     12\u001b[0m \u001b[1;31m# Evaluate lensed Gaussian image:\u001b[0m\u001b[1;33m\u001b[0m\u001b[1;33m\u001b[0m\u001b[0m\n\u001b[0;32m     13\u001b[0m \u001b[1;31m##g_lensimage = ldf.gauss_2d(x-xg, y-yg, gpar)\u001b[0m\u001b[1;33m\u001b[0m\u001b[1;33m\u001b[0m\u001b[0m\n\u001b[1;32m---> 14\u001b[1;33m \u001b[0mg_lensimage\u001b[0m \u001b[1;33m=\u001b[0m \u001b[0mGaussian\u001b[0m\u001b[1;33m(\u001b[0m\u001b[0mx\u001b[0m\u001b[1;33m-\u001b[0m\u001b[0mxg\u001b[0m\u001b[1;33m,\u001b[0m \u001b[0my\u001b[0m\u001b[1;33m-\u001b[0m\u001b[0myg\u001b[0m\u001b[1;33m,\u001b[0m \u001b[0mgauss_pars\u001b[0m\u001b[1;33m)\u001b[0m\u001b[1;33m\u001b[0m\u001b[1;33m\u001b[0m\u001b[0m\n\u001b[0m\u001b[0;32m     15\u001b[0m \u001b[1;33m\u001b[0m\u001b[0m\n\u001b[0;32m     16\u001b[0m \u001b[1;31m# Have a look:\u001b[0m\u001b[1;33m\u001b[0m\u001b[1;33m\u001b[0m\u001b[0m\n",
      "\u001b[1;32m~\\AppData\\Local\\Temp/ipykernel_11112/4130101533.py\u001b[0m in \u001b[0;36mGaussian\u001b[1;34m(x, y, pars)\u001b[0m\n\u001b[0;32m     20\u001b[0m         \u001b[1;36m2\u001b[0m\u001b[0mD\u001b[0m \u001b[0mGaussian\u001b[0m \u001b[0mfunction\u001b[0m \u001b[0mevaluated\u001b[0m \u001b[0mat\u001b[0m \u001b[1;33m(\u001b[0m\u001b[0mx\u001b[0m\u001b[1;33m,\u001b[0m \u001b[0my\u001b[0m\u001b[1;33m)\u001b[0m\u001b[1;33m\u001b[0m\u001b[1;33m\u001b[0m\u001b[0m\n\u001b[0;32m     21\u001b[0m     \"\"\"\n\u001b[1;32m---> 22\u001b[1;33m     \u001b[0mamplitude\u001b[0m\u001b[1;33m,\u001b[0m \u001b[0msigma\u001b[0m  \u001b[1;33m=\u001b[0m \u001b[0mpars\u001b[0m\u001b[1;33m\u001b[0m\u001b[1;33m\u001b[0m\u001b[0m\n\u001b[0m\u001b[0;32m     23\u001b[0m     \u001b[0mexpon\u001b[0m \u001b[1;33m=\u001b[0m \u001b[1;33m-\u001b[0m\u001b[1;36m0.5\u001b[0m\u001b[1;33m*\u001b[0m\u001b[1;33m(\u001b[0m\u001b[1;33m(\u001b[0m\u001b[0mx\u001b[0m\u001b[1;33m**\u001b[0m\u001b[1;36m2\u001b[0m \u001b[1;33m+\u001b[0m \u001b[0my\u001b[0m\u001b[1;33m**\u001b[0m\u001b[1;36m2\u001b[0m\u001b[1;33m)\u001b[0m \u001b[1;33m/\u001b[0m \u001b[0mnp\u001b[0m\u001b[1;33m.\u001b[0m\u001b[0mabs\u001b[0m\u001b[1;33m(\u001b[0m\u001b[0msigma\u001b[0m\u001b[1;33m)\u001b[0m\u001b[1;33m**\u001b[0m\u001b[1;36m2\u001b[0m\u001b[1;33m)\u001b[0m\u001b[1;33m\u001b[0m\u001b[1;33m\u001b[0m\u001b[0m\n\u001b[0;32m     24\u001b[0m     \u001b[1;32mreturn\u001b[0m \u001b[0mamplitude\u001b[0m\u001b[1;33m*\u001b[0m\u001b[0mnp\u001b[0m\u001b[1;33m.\u001b[0m\u001b[0mexp\u001b[0m\u001b[1;33m(\u001b[0m\u001b[0mexpon\u001b[0m\u001b[1;33m)\u001b[0m\u001b[1;33m\u001b[0m\u001b[1;33m\u001b[0m\u001b[0m\n",
      "\u001b[1;31mValueError\u001b[0m: too many values to unpack (expected 2)"
     ]
    }
   ],
   "source": [
    "l_amp = 1.5   # Einstein radius\n",
    "l_xcen = 0.23  # x position of center\n",
    "l_ycen = 0.8  # y position of center\n",
    "l_axrat = 1.0 # minor-to-major axis ratio\n",
    "l_pa = 0.0    # major-axis position angle (degrees) c.c.w. from x axis\n",
    "lpar = np.asarray([l_amp, l_xcen, l_ycen, l_axrat, l_pa])\n",
    "\n",
    "# Compute the lensing potential gradients:\n",
    "##(xg, yg) = ldf.sie_grad(x, y, lpar)\n",
    "(xg, yg) = sie_grad(x, y, lpar)\n",
    "\n",
    "# Evaluate lensed Gaussian image:\n",
    "##g_lensimage = ldf.gauss_2d(x-xg, y-yg, gpar)\n",
    "g_lensimage = Gaussian(x-xg, y-yg, gauss_pars)\n",
    "\n",
    "# Have a look:\n",
    "f = plt.imshow(g_lensimage, **myargs)"
   ]
  },
  {
   "cell_type": "code",
   "execution_count": null,
   "id": "53ab26b4",
   "metadata": {},
   "outputs": [],
   "source": [
    "## Conclusion: xy_rotate function is useless ##"
   ]
  }
 ],
 "metadata": {
  "kernelspec": {
   "display_name": "Python 3 (ipykernel)",
   "language": "python",
   "name": "python3"
  },
  "language_info": {
   "codemirror_mode": {
    "name": "ipython",
    "version": 3
   },
   "file_extension": ".py",
   "mimetype": "text/x-python",
   "name": "python",
   "nbconvert_exporter": "python",
   "pygments_lexer": "ipython3",
   "version": "3.9.7"
  }
 },
 "nbformat": 4,
 "nbformat_minor": 5
}
