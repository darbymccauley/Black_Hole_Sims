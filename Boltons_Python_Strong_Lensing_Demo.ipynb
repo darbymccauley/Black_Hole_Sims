{
 "cells": [
  {
   "cell_type": "markdown",
   "id": "0e6a0345",
   "metadata": {},
   "source": [
    "Source: https://web.physics.utah.edu/~bolton/python_lens_demo/"
   ]
  },
  {
   "cell_type": "code",
   "execution_count": 18,
   "id": "73832af1",
   "metadata": {},
   "outputs": [],
   "source": [
    "#\n",
    "# lensdemo_funcs.py\n",
    "#\n",
    "# Function module for strong lensing demos\n",
    "#\n",
    "# Intended for use with lensdemo_script.py\n",
    "#\n",
    "# Copyright 2009 by Adam S. Bolton\n",
    "# Creative Commons Attribution-Noncommercial-ShareAlike 3.0 license applies:\n",
    "# http://creativecommons.org/licenses/by-nc-sa/3.0/\n",
    "# All redistributions, modified or otherwise, must include this\n",
    "# original copyright notice, licensing statement, and disclaimer.\n",
    "# DISCLAIMER: ABSOLUTELY NO WARRANTY EXPRESS OR IMPLIED.\n",
    "# AUTHOR ASSUMES NO LIABILITY IN CONNECTION WITH THIS COMPUTER CODE.\n",
    "#\n",
    "\n",
    "import numpy as N\n",
    "\n",
    "def xy_rotate(x, y, xcen, ycen, phi):\n",
    "    \"\"\"\n",
    "    NAME: xy_rotate\n",
    "\n",
    "    PURPOSE: Transform input (x, y) coordiantes into the frame of a new\n",
    "             (x, y) coordinate system that has its origin at the point\n",
    "             (xcen, ycen) in the old system, and whose x-axis is rotated\n",
    "             c.c.w. by phi degrees with respect to the original x axis.\n",
    "\n",
    "    USAGE: (xnew,ynew) = xy_rotate(x, y, xcen, ycen, phi)\n",
    "\n",
    "    ARGUMENTS:\n",
    "      x, y: numpy ndarrays with (hopefully) matching sizes\n",
    "            giving coordinates in the old system\n",
    "      xcen: old-system x coordinate of the new origin\n",
    "      ycen: old-system y coordinate of the new origin\n",
    "      phi: angle c.c.w. in degrees from old x to new x axis\n",
    "\n",
    "    RETURNS: 2-item tuple containing new x and y coordinate arrays\n",
    "\n",
    "    WRITTEN: Adam S. Bolton, U. of Utah, 2009\n",
    "    \"\"\"\n",
    "    phirad = N.deg2rad(phi)\n",
    "    xnew = (x - xcen) * N.cos(phirad) + (y - ycen) * N.sin(phirad)\n",
    "    ynew = (y - ycen) * N.cos(phirad) - (x - xcen) * N.sin(phirad)\n",
    "    return (xnew,ynew)\n",
    "\n",
    "def gauss_2d(x, y, par):\n",
    "    \"\"\"\n",
    "    NAME: gauss_2d\n",
    "\n",
    "    PURPOSE: Implement 2D Gaussian function\n",
    "\n",
    "    USAGE: z = gauss_2d(x, y, par)\n",
    "\n",
    "    ARGUMENTS:\n",
    "      x, y: vecors or images of coordinates;\n",
    "            should be matching numpy ndarrays\n",
    "      par: vector of parameters, defined as follows:\n",
    "        par[0]: amplitude\n",
    "        par[1]: intermediate-axis sigma\n",
    "        par[2]: x-center\n",
    "        par[3]: y-center\n",
    "        par[4]: axis ratio\n",
    "        par[5]: c.c.w. major-axis rotation w.r.t. x-axis\n",
    "        \n",
    "    RETURNS: 2D Gaussian evaluated at x-y coords\n",
    "\n",
    "    NOTE: amplitude = 1 is not normalized, but rather has max = 1\n",
    "\n",
    "    WRITTEN: Adam S. Bolton, U. of Utah, 2009\n",
    "    \"\"\"\n",
    "    (xnew,ynew) = xy_rotate(x, y, par[2], par[3], par[5])\n",
    "    r_ell_sq = ((xnew**2)*par[4] + (ynew**2)/par[4]) / N.abs(par[1])**2\n",
    "    return par[0] * N.exp(-0.5*r_ell_sq)\n",
    "\n",
    "def sie_grad(x, y, par):\n",
    "    \"\"\"\n",
    "    NAME: sie_grad\n",
    "\n",
    "    PURPOSE: compute the deflection of an SIE potential\n",
    "\n",
    "    USAGE: (xg, yg) = sie_grad(x, y, par)\n",
    "\n",
    "    ARGUMENTS:\n",
    "      x, y: vectors or images of coordinates;\n",
    "            should be matching numpy ndarrays\n",
    "      par: vector of parameters with 1 to 5 elements, defined as follows:\n",
    "        par[0]: lens strength, or 'Einstein radius'\n",
    "        par[1]: (optional) x-center (default = 0.0)\n",
    "        par[2]: (optional) y-center (default = 0.0)\n",
    "        par[3]: (optional) axis ratio (default=1.0)\n",
    "        par[4]: (optional) major axis Position Angle\n",
    "                in degrees c.c.w. of x axis. (default = 0.0)\n",
    "\n",
    "    RETURNS: tuple (xg, yg) of gradients at the positions (x, y)\n",
    "\n",
    "    NOTES: This routine implements an 'intermediate-axis' convention.\n",
    "      Analytic forms for the SIE potential can be found in:\n",
    "        Kassiola & Kovner 1993, ApJ, 417, 450\n",
    "        Kormann et al. 1994, A&A, 284, 285\n",
    "        Keeton & Kochanek 1998, ApJ, 495, 157\n",
    "      The parameter-order convention in this routine differs from that\n",
    "      of a previous IDL routine of the same name by ASB.\n",
    "\n",
    "    WRITTEN: Adam S. Bolton, U of Utah, 2009\n",
    "    \"\"\"\n",
    "    # Set parameters:\n",
    "    b = N.abs(par[0]) # can't be negative!!!\n",
    "    xzero = 0. if (len(par) < 2) else par[1]\n",
    "    yzero = 0. if (len(par) < 3) else par[2]\n",
    "    q = 1. if (len(par) < 4) else N.abs(par[3])\n",
    "    phiq = 0. if (len(par) < 5) else par[4]\n",
    "    eps = 0.001 # for sqrt(1/q - q) < eps, a limit expression is used.\n",
    "    # Handle q > 1 gracefully:\n",
    "    if (q > 1.):\n",
    "        q = 1.0 / q\n",
    "        phiq = phiq + 90.0\n",
    "    # Go into shifted coordinats of the potential:\n",
    "    phirad = N.deg2rad(phiq)\n",
    "    xsie = (x-xzero) * N.cos(phirad) + (y-yzero) * N.sin(phirad)\n",
    "    ysie = (y-yzero) * N.cos(phirad) - (x-xzero) * N.sin(phirad)\n",
    "    # Compute potential gradient in the transformed system:\n",
    "    r_ell = N.sqrt(q * xsie**2 + ysie**2 / q)\n",
    "    qfact = N.sqrt(1./q - q)\n",
    "    # (r_ell == 0) terms prevent divide-by-zero problems\n",
    "    if (qfact >= eps):\n",
    "        xtg = (b/qfact) * N.arctan(qfact * xsie / (r_ell + (r_ell == 0)))\n",
    "        ytg = (b/qfact) * N.arctanh(qfact * ysie / (r_ell + (r_ell == 0)))\n",
    "    else:\n",
    "        xtg = b * xsie / (r_ell + (r_ell == 0))\n",
    "        ytg = b * ysie / (r_ell + (r_ell == 0))\n",
    "    # Transform back to un-rotated system:\n",
    "    xg = xtg * N.cos(phirad) - ytg * N.sin(phirad)\n",
    "    yg = ytg * N.cos(phirad) + xtg * N.sin(phirad)\n",
    "    # Return value:\n",
    "    return (xg, yg)"
   ]
  },
  {
   "cell_type": "code",
   "execution_count": 38,
   "id": "4dcc4460",
   "metadata": {},
   "outputs": [
    {
     "data": {
      "text/plain": [
       "(0.0, 0.0)"
      ]
     },
     "execution_count": 38,
     "metadata": {},
     "output_type": "execute_result"
    }
   ],
   "source": [
    "def sie_grad(x, y, pars):\n",
    "    b, x_source, y_source = pars\n",
    "    phiq = 0\n",
    "    q = 1\n",
    "#     # Set parameters:\n",
    "#     b = N.abs(par[0]) # can't be negative!!!\n",
    "#     xzero = 0. if (len(par) < 2) else par[1]\n",
    "#     yzero = 0. if (len(par) < 3) else par[2]\n",
    "#     q = 1. if (len(par) < 4) else N.abs(par[3])\n",
    "#     phiq = 0. if (len(par) < 5) else par[4]\n",
    "    eps = 0.001 # for sqrt(1/q - q) < eps, a limit expression is used.\n",
    "#     # Handle q > 1 gracefully:\n",
    "#     if (q > 1.):\n",
    "#         q = 1.0 / q\n",
    "#         phiq = phiq + 90.0\n",
    "    # Go into shifted coordinats of the potential:\n",
    "    phirad = N.deg2rad(phiq)\n",
    "    xsie = (x-x_source) * N.cos(phirad) + (y-y_source) * N.sin(phirad)\n",
    "    ysie = (y-y_source) * N.cos(phirad) - (x-x_source) * N.sin(phirad)\n",
    "    # Compute potential gradient in the transformed system:\n",
    "    r_ell = N.sqrt(q * xsie**2 + ysie**2 / q)\n",
    "    qfact = N.sqrt(1./q - q)\n",
    "    # (r_ell == 0) terms prevent divide-by-zero problems\n",
    "    if (qfact >= eps):\n",
    "        xtg = (b/qfact) * N.arctan(qfact * xsie / (r_ell + (r_ell == 0)))\n",
    "        ytg = (b/qfact) * N.arctanh(qfact * ysie / (r_ell + (r_ell == 0)))\n",
    "    else:\n",
    "        xtg = b * xsie / (r_ell + (r_ell == 0))\n",
    "        ytg = b * ysie / (r_ell + (r_ell == 0))\n",
    "    # Transform back to un-rotated system:\n",
    "    xg = xtg * N.cos(phirad) - ytg * N.sin(phirad)\n",
    "    yg = ytg * N.cos(phirad) + xtg * N.sin(phirad)\n",
    "    # Return value:\n",
    "    return (xg, yg)\n",
    "\n",
    "pars = np.asarray([1.5, 0, 0])\n",
    "sie_grad(0, 0, pars)"
   ]
  },
  {
   "cell_type": "code",
   "execution_count": 57,
   "id": "ffc99cdc",
   "metadata": {},
   "outputs": [
    {
     "data": {
      "text/plain": [
       "(-1.5000000000000002, 0.0)"
      ]
     },
     "execution_count": 57,
     "metadata": {},
     "output_type": "execute_result"
    }
   ],
   "source": [
    "def sie_grad(x, y, pars):\n",
    "    b, x_source, y_source = pars\n",
    "    phi = 0\n",
    "    q = 1\n",
    "    eps = 0.001 \n",
    "    \n",
    "    # Go into shifted coordinats of the potential:\n",
    "    xsie = (x-x_source) * N.cos(phi) + (y-y_source) * N.sin(phi)\n",
    "    ysie = (y-y_source) * N.cos(phi) - (x-x_source) * N.sin(phi)\n",
    "    \n",
    "    # Compute potential gradient in the transformed system:\n",
    "    r_ell = N.sqrt(q * xsie**2 + ysie**2 / q)\n",
    "    qfact = N.sqrt(1./q - q)\n",
    "    \n",
    "    # (r_ell == 0) terms prevent divide-by-zero problems\n",
    "    if (qfact >= eps):\n",
    "        xtg = (b/qfact) * N.arctan(qfact * xsie / (r_ell + (r_ell == 0)))\n",
    "        ytg = (b/qfact) * N.arctanh(qfact * ysie / (r_ell + (r_ell == 0)))\n",
    "    else:\n",
    "        xtg = b * xsie / (r_ell + (r_ell == 0))\n",
    "        ytg = b * ysie / (r_ell + (r_ell == 0))\n",
    "        \n",
    "    # Transform back to un-rotated system:\n",
    "    xg = xtg * N.cos(phi) - ytg * N.sin(phi)\n",
    "    yg = ytg * N.cos(phi) + xtg * N.sin(phi)\n",
    "    \n",
    "    return (xg, yg)\n",
    "\n",
    "pars = np.asarray([1.5, 0.1, 0])\n",
    "sie_grad(0, 0, pars)"
   ]
  },
  {
   "cell_type": "code",
   "execution_count": 61,
   "id": "e4ca2173",
   "metadata": {},
   "outputs": [
    {
     "data": {
      "image/png": "[encoded data removed]",
      "text/plain": [
       "<Figure size 432x288 with 1 Axes>"
      ]
     },
     "metadata": {
      "needs_background": "light"
     },
     "output_type": "display_data"
    }
   ],
   "source": [
    "l_amp = 1.75   # Einstein radius\n",
    "l_xcen = 0 # x position of center\n",
    "l_ycen = 0  # y position of center\n",
    "# l_axrat = 1.0 # minor-to-major axis ratio\n",
    "# l_pa = 0.0    # major-axis position angle (degrees) c.c.w. from x axis\n",
    "lpar = n.asarray([l_amp, l_xcen, l_ycen])\n",
    "\n",
    "# Compute the lensing potential gradients:\n",
    "##(xg, yg) = ldf.sie_grad(x, y, lpar)\n",
    "(xg, yg) = sie_grad(x, y, lpar)\n",
    "\n",
    "# Evaluate lensed Gaussian image:\n",
    "##g_lensimage = ldf.gauss_2d(x-xg, y-yg, gpar)\n",
    "g_lensimage = gauss_2d(x-xg, y-yg, gpar)\n",
    "\n",
    "# Have a look:\n",
    "f = p.imshow(g_lensimage, **myargs)"
   ]
  },
  {
   "cell_type": "code",
   "execution_count": null,
   "id": "e68b2cc7",
   "metadata": {},
   "outputs": [],
   "source": []
  },
  {
   "cell_type": "code",
   "execution_count": null,
   "id": "8ba05958",
   "metadata": {},
   "outputs": [],
   "source": [
    "# #\n",
    "# # lensdemo_script.py\n",
    "# #\n",
    "# # A script to allow simple explortation of gravitational lensing\n",
    "# # of extended objects (i.e., galaxies) by the gravity of a singular\n",
    "# # isothermal ellipsoid (SIE) potential.\n",
    "# #\n",
    "# # This script is meant to be used as a cut-and-paste guide to an interactive\n",
    "# # python2.5 command-line session, and is not necessarily to be run in\n",
    "# # unmodified form from end to end.\n",
    "# #\n",
    "# # Requires numpy and matplotlib, as well as the suporting file \"lensdemo_funcs.py\"\n",
    "# #\n",
    "# # Copyright 2009 by Adam S. Bolton\n",
    "# # Creative Commons Attribution-Noncommercial-ShareAlike 3.0 license applies:\n",
    "# # http://creativecommons.org/licenses/by-nc-sa/3.0/\n",
    "# # All redistributions, modified or otherwise, must include this\n",
    "# # original copyright notice, licensing statement, and disclaimer.\n",
    "# # DISCLAIMER: ABSOLUTELY NO WARRANTY EXPRESS OR IMPLIED.\n",
    "# # AUTHOR ASSUMES NO LIABILITY IN CONNECTION WITH THIS COMPUTER CODE.\n",
    "# #\n",
    "\n",
    "# # Import the necessary packages\n",
    "# import numpy as n\n",
    "# import matplotlib as m\n",
    "# # The following 2 lines are necessary to make the\n",
    "# # GUI work right, at least for me. YMMV!\n",
    "# m.use('TkAgg')\n",
    "# m.interactive(True)\n",
    "# from matplotlib import pyplot as p\n",
    "# from matplotlib import cm\n",
    "# ##import lensdemo_funcs as ldf\n",
    "\n",
    "# # Package some image display preferences in a dictionary object, for use below:\n",
    "# myargs = {'interpolation': 'nearest', 'origin': 'lower', 'cmap': cm.magma}\n",
    "# #myargs = {'interpolation': 'nearest', 'origin': 'lower', 'cmap': cm.gray}\n",
    "\n",
    "# # Make some x and y coordinate images:\n",
    "# nx = 501\n",
    "# ny = 501\n",
    "# xhilo = [-2.5, 2.5]\n",
    "# yhilo = [-2.5, 2.5]\n",
    "# x = (xhilo[1] - xhilo[0]) * n.outer(n.ones(ny), n.arange(nx)) / float(nx-1) + xhilo[0]\n",
    "# y = (yhilo[1] - yhilo[0]) * n.outer(n.arange(ny), n.ones(nx)) / float(ny-1) + yhilo[0]\n",
    "\n",
    "# # Set some Gaussian blob image parameters and pack them into an array:\n",
    "# g_amp = 1.0   # peak brightness value\n",
    "# g_sig = 0.05  # Gaussian \"sigma\" (i.e., size)\n",
    "# g_xcen = 0.0  # x position of center\n",
    "# g_ycen = 0.0  # y position of center\n",
    "# g_axrat = 1.0 # minor-to-major axis ratio\n",
    "# g_pa = 0.0    # major-axis position angle (degrees) c.c.w. from x axis\n",
    "# gpar = n.asarray([g_amp, g_sig, g_xcen, g_ycen, g_axrat, g_pa])\n",
    "\n",
    "# # Have a look at the un-lensed Gaussian image:\n",
    "# ## g_image = ldf.gauss_2d(x, y, gpar)\n",
    "# g_image = gauss_2d(x, y, gpar)\n",
    "# f = p.imshow(g_image, **myargs)\n",
    "# # IMPORTANT: Kill these imshow GUIs before redisplaying, or you will get bad memory leaks!\n",
    "# # You can kill it with the \"red button\", or with the following command:\n",
    "# p.close(f.get_figure().number)\n",
    "# # Alternatively, if you do the following you will probably be OK redisplaying\n",
    "# # without killing the GUI:\n",
    "# f.axes.hold(False)\n",
    "\n",
    "# # Set some SIE lens-model parameters and pack them into an array:\n",
    "# l_amp = 1.5   # Einstein radius\n",
    "# l_xcen = 0.0  # x position of center\n",
    "# l_ycen = 0.0  # y position of center\n",
    "# l_axrat = 1.0 # minor-to-major axis ratio\n",
    "# l_pa = 0.0    # major-axis position angle (degrees) c.c.w. from x axis\n",
    "# lpar = n.asarray([l_amp, l_xcen, l_ycen, l_axrat, l_pa])\n",
    "\n",
    "# # Compute the lensing potential gradients:\n",
    "# ##(xg, yg) = ldf.sie_grad(x, y, lpar)\n",
    "# (xg, yg) = sie_grad(x, y, lpar)\n",
    "\n",
    "# # Evaluate lensed Gaussian image:\n",
    "# ##g_lensimage = ldf.gauss_2d(x-xg, y-yg, gpar)\n",
    "# g_lensimage = gauss_2d(x-xg, y-yg, gpar)\n",
    "\n",
    "# # Have a look:\n",
    "# f = p.imshow(g_lensimage, **myargs)\n",
    "\n",
    "# # If you can recall what the parameter place values mean,\n",
    "# # the following lines are most efficient for exploration:\n",
    "# gpar = n.asarray([1.0, 0.05, 0.0, 0.0, 1.0, 0.0])\n",
    "# lpar = n.asarray([1.5, 0.0, 0.0, 1.0, 0.0])\n",
    "# ##(xg, yg) = ldf.sie_grad(x, y, lpar)\n",
    "# (xg, yg) = sie_grad(x, y, lpar)\n",
    "# ##g_lensimage = ldf.gauss_2d(x-xg, y-yg, gpar)\n",
    "# g_lensimage = gauss_2d(x-xg, y-yg, gpar)\n",
    "# f = p.imshow(g_lensimage, **myargs)\n",
    "# f.axes.hold(False)\n",
    "\n",
    "# # The following lines will plot the un-lensed and lensed images side by side:\n",
    "# gpar = n.asarray([1.0, 0.05, 0.0, 0.0, 1.0, 0.0])\n",
    "# lpar = n.asarray([1.0, 0.0, 0.0, 1.0, 0.0])\n",
    "# ##g_image = ldf.gauss_2d(x, y, gpar)\n",
    "# ##(xg, yg) = ldf.sie_grad(x, y, lpar)\n",
    "# ##g_lensimage = ldf.gauss_2d(x-xg, y-yg, gpar)\n",
    "# g_image = gauss_2d(x, y, gpar)\n",
    "# (xg, yg) = sie_grad(x, y, lpar)\n",
    "# g_lensimage = gauss_2d(x-xg, y-yg, gpar)\n",
    "# f = p.imshow(n.hstack((g_image, g_lensimage)), **myargs)\n",
    "\n",
    "\n",
    "# # The following lines can be used to verify that the SIE potential gradient\n",
    "# # function actually computes what is is supposed to compute!\n",
    "# # Feel free to disregard...\n",
    "\n",
    "# # Pick some arbitrary lens parameters:\n",
    "# lpar = n.asarray([1.11, -0.23, 0.59, 0.72, 33.3])\n",
    "# # Compute the gradients:\n",
    "# ##(xg, yg) = ldf.sie_grad(x, y, lpar)\n",
    "# (xg, yg) = sie_grad(x, y, lpar)\n",
    "# # Compute convergence as half the Laplacian of the potential from the gradients:\n",
    "# kappa_g = 0.5 * ( (xg[1:-1,2:] - xg[1:-1,0:-2]) / (x[1:-1,2:] - x[1:-1,0:-2]) +\n",
    "#                   (yg[2:,1:-1] - yg[0:-2,1:-1]) / (y[2:,1:-1] - y[0:-2,1:-1]))\n",
    "# # Compute the expected analytic convergence for these lens parameters:\n",
    "# ##(xn, yn) = ldf.xy_rotate(x, y, lpar[1], lpar[2], lpar[4])\n",
    "# (xn, yn) = xy_rotate(x, y, lpar[1], lpar[2], lpar[4])\n",
    "# kappa_a = 0.5 * lpar[0] / n.sqrt(lpar[3]*xn[1:-1,1:-1]**2 + yn[1:-1,1:-1]**2 / lpar[3])\n",
    "\n",
    "# f = p.imshow(n.hstack((n.log(kappa_g), n.log(kappa_a), n.log(kappa_g) - n.log(kappa_a))),\n",
    "#              vmax=n.log(kappa_g).max(), vmin=n.log(kappa_g).min(), **myargs)\n",
    "# # OK, looks good!  Some disagreement in the center, which is to be expected."
   ]
  },
  {
   "cell_type": "code",
   "execution_count": 60,
   "id": "2f0164ef",
   "metadata": {},
   "outputs": [
    {
     "data": {
      "image/png": "[encoded data removed]",
      "text/plain": [
       "<Figure size 432x288 with 1 Axes>"
      ]
     },
     "metadata": {
      "needs_background": "light"
     },
     "output_type": "display_data"
    }
   ],
   "source": [
    "# Import the necessary packages\n",
    "import numpy as n\n",
    "import matplotlib as m\n",
    "# The following 2 lines are necessary to make the\n",
    "# GUI work right, at least for me. YMMV!\n",
    "# m.use('TkAgg')\n",
    "# m.interactive(True)\n",
    "\n",
    "from matplotlib import pyplot as p\n",
    "from matplotlib import cm\n",
    "##import lensdemo_funcs as ldf\n",
    "\n",
    "# Package some image display preferences in a dictionary object, for use below:\n",
    "myargs = {'interpolation': 'nearest', 'origin': 'lower', 'cmap': cm.magma}\n",
    "#myargs = {'interpolation': 'nearest', 'origin': 'lower', 'cmap': cm.gray}\n",
    "\n",
    "# Make some x and y coordinate images:\n",
    "nx = 501\n",
    "ny = 501\n",
    "xhilo = [-2.5, 2.5]\n",
    "yhilo = [-2.5, 2.5]\n",
    "x = (xhilo[1] - xhilo[0]) * n.outer(n.ones(ny), n.arange(nx)) / float(nx-1) + xhilo[0]\n",
    "y = (yhilo[1] - yhilo[0]) * n.outer(n.arange(ny), n.ones(nx)) / float(ny-1) + yhilo[0]\n",
    "\n",
    "# Set some Gaussian blob image parameters and pack them into an array:\n",
    "g_amp = 1.0   # peak brightness value\n",
    "g_sig = 0.05  # Gaussian \"sigma\" (i.e., size)\n",
    "g_xcen = 0.0  # x position of center\n",
    "g_ycen = 0.0  # y position of center\n",
    "g_axrat = 1.0 # minor-to-major axis ratio\n",
    "g_pa = 0.0    # major-axis position angle (degrees) c.c.w. from x axis\n",
    "gpar = n.asarray([g_amp, g_sig, g_xcen, g_ycen, g_axrat, g_pa])\n",
    "\n",
    "# Have a look at the un-lensed Gaussian image:\n",
    "## g_image = ldf.gauss_2d(x, y, gpar)\n",
    "g_image = gauss_2d(x, y, gpar)\n",
    "f = p.imshow(g_image, **myargs)"
   ]
  },
  {
   "cell_type": "code",
   "execution_count": 27,
   "id": "b0569b0e",
   "metadata": {},
   "outputs": [
    {
     "data": {
      "image/png": "[encoded data removed]",
      "text/plain": [
       "<Figure size 432x288 with 1 Axes>"
      ]
     },
     "metadata": {
      "needs_background": "light"
     },
     "output_type": "display_data"
    }
   ],
   "source": [
    "l_amp = 1.5   # Einstein radius\n",
    "l_xcen = 0.2 # x position of center\n",
    "l_ycen = 0.05  # y position of center\n",
    "l_axrat = 1.0 # minor-to-major axis ratio\n",
    "l_pa = 0.0    # major-axis position angle (degrees) c.c.w. from x axis\n",
    "lpar = n.asarray([l_amp, l_xcen, l_ycen])\n",
    "\n",
    "# Compute the lensing potential gradients:\n",
    "##(xg, yg) = ldf.sie_grad(x, y, lpar)\n",
    "(xg, yg) = sie_grad(x, y, lpar)\n",
    "\n",
    "# Evaluate lensed Gaussian image:\n",
    "##g_lensimage = ldf.gauss_2d(x-xg, y-yg, gpar)\n",
    "g_lensimage = gauss_2d(x-xg, y-yg, gpar)\n",
    "\n",
    "# Have a look:\n",
    "f = p.imshow(g_lensimage, **myargs)\n"
   ]
  },
  {
   "cell_type": "code",
   "execution_count": 5,
   "id": "104a22df",
   "metadata": {},
   "outputs": [
    {
     "data": {
      "image/png": "[encoded data removed]",
      "text/plain": [
       "<Figure size 432x288 with 1 Axes>"
      ]
     },
     "metadata": {
      "needs_background": "light"
     },
     "output_type": "display_data"
    }
   ],
   "source": [
    "gpar = n.asarray([1.0, 0.05, 0.0, 0.0, 1.0, 0.0])\n",
    "lpar = n.asarray([1.5, 0.0, 0.0, 1.0, 0.0])\n",
    "##(xg, yg) = ldf.sie_grad(x, y, lpar)\n",
    "(xg, yg) = sie_grad(x, y, lpar)\n",
    "##g_lensimage = ldf.gauss_2d(x-xg, y-yg, gpar)\n",
    "g_lensimage = gauss_2d(x-xg, y-yg, gpar)\n",
    "f = p.imshow(g_lensimage, **myargs)"
   ]
  },
  {
   "cell_type": "code",
   "execution_count": 6,
   "id": "983bf34b",
   "metadata": {},
   "outputs": [
    {
     "data": {
      "image/png": "[encoded data removed]",
      "text/plain": [
       "<Figure size 432x288 with 1 Axes>"
      ]
     },
     "metadata": {
      "needs_background": "light"
     },
     "output_type": "display_data"
    }
   ],
   "source": [
    "gpar = n.asarray([1.0, 0.05, 0.0, 0.0, 1.0, 0.0])\n",
    "lpar = n.asarray([1.0, 0.0, 0.0, 1.0, 0.0])\n",
    "##g_image = ldf.gauss_2d(x, y, gpar)\n",
    "##(xg, yg) = ldf.sie_grad(x, y, lpar)\n",
    "##g_lensimage = ldf.gauss_2d(x-xg, y-yg, gpar)\n",
    "g_image = gauss_2d(x, y, gpar)\n",
    "(xg, yg) = sie_grad(x, y, lpar)\n",
    "g_lensimage = gauss_2d(x-xg, y-yg, gpar)\n",
    "f = p.imshow(n.hstack((g_image, g_lensimage)), **myargs)"
   ]
  },
  {
   "cell_type": "code",
   "execution_count": 7,
   "id": "36b5846f",
   "metadata": {},
   "outputs": [
    {
     "data": {
      "image/png": "[encoded data removed]",
      "text/plain": [
       "<Figure size 432x288 with 1 Axes>"
      ]
     },
     "metadata": {
      "needs_background": "light"
     },
     "output_type": "display_data"
    }
   ],
   "source": [
    "# The following lines can be used to verify that the SIE potential gradient\n",
    "# function actually computes what is is supposed to compute!\n",
    "# Feel free to disregard...\n",
    "\n",
    "# Pick some arbitrary lens parameters:\n",
    "lpar = n.asarray([1.11, -0.23, 0.59, 0.72, 33.3])\n",
    "# Compute the gradients:\n",
    "##(xg, yg) = ldf.sie_grad(x, y, lpar)\n",
    "(xg, yg) = sie_grad(x, y, lpar)\n",
    "# Compute convergence as half the Laplacian of the potential from the gradients:\n",
    "kappa_g = 0.5 * ( (xg[1:-1,2:] - xg[1:-1,0:-2]) / (x[1:-1,2:] - x[1:-1,0:-2]) +\n",
    "                  (yg[2:,1:-1] - yg[0:-2,1:-1]) / (y[2:,1:-1] - y[0:-2,1:-1]))\n",
    "# Compute the expected analytic convergence for these lens parameters:\n",
    "##(xn, yn) = ldf.xy_rotate(x, y, lpar[1], lpar[2], lpar[4])\n",
    "(xn, yn) = xy_rotate(x, y, lpar[1], lpar[2], lpar[4])\n",
    "kappa_a = 0.5 * lpar[0] / n.sqrt(lpar[3]*xn[1:-1,1:-1]**2 + yn[1:-1,1:-1]**2 / lpar[3])\n",
    "\n",
    "f = p.imshow(n.hstack((n.log(kappa_g), n.log(kappa_a), n.log(kappa_g) - n.log(kappa_a))),\n",
    "             vmax=n.log(kappa_g).max(), vmin=n.log(kappa_g).min(), **myargs)\n",
    "# OK, looks good!  Some disagreement in the center, which is to be expected."
   ]
  },
  {
   "cell_type": "code",
   "execution_count": null,
   "id": "38672b01",
   "metadata": {},
   "outputs": [],
   "source": []
  }
 ],
 "metadata": {
  "kernelspec": {
   "display_name": "Python 3 (ipykernel)",
   "language": "python",
   "name": "python3"
  },
  "language_info": {
   "codemirror_mode": {
    "name": "ipython",
    "version": 3
   },
   "file_extension": ".py",
   "mimetype": "text/x-python",
   "name": "python",
   "nbconvert_exporter": "python",
   "pygments_lexer": "ipython3",
   "version": "3.9.7"
  }
 },
 "nbformat": 4,
 "nbformat_minor": 5
}
